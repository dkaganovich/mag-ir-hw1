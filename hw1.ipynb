{
 "cells": [
  {
   "cell_type": "markdown",
   "metadata": {},
   "source": [
    "# Задание 1, 2, 3"
   ]
  },
  {
   "cell_type": "markdown",
   "metadata": {},
   "source": [
    "Определим набор вспомогательных классов и функций:\n",
    "\n",
    "*Remark: функции eval_output, f1_score и precision используют модифицированный код из eval.py. В частности в исходном скрипте при оценке игнорировался самый релевантный запросу документ.*"
   ]
  },
  {
   "cell_type": "code",
   "execution_count": 1,
   "metadata": {
    "collapsed": false
   },
   "outputs": [],
   "source": [
    "from nltk.stem import SnowballStemmer\n",
    "from nltk.stem import WordNetLemmatizer\n",
    "from nltk.corpus import stopwords\n",
    "from nltk import word_tokenize\n",
    "import numpy as np\n",
    "import string\n",
    "import re\n",
    "import math\n",
    "import pickle\n",
    "\n",
    "\n",
    "# primary language\n",
    "_lang = \"english\"\n",
    "\n",
    "# raw data sources\n",
    "_doc_raw_file = \"data/cran.all.1400\"\n",
    "_query_raw_file = \"data/cran.qry\"\n",
    "\n",
    "# this applies only to _persistent_mode = True\n",
    "_doc_db_file = \"data/doc_db.dat\"\n",
    "_query_db_file = \"data/query_db.dat\"\n",
    "_doc_index_file = \"data/doc_index.dat\"\n",
    "\n",
    "_groundtruth_file = \"data/qrel_clean\"\n",
    "# search results for evaluation\n",
    "_answer_file = \"data/train.qrel_clean\"\n",
    "\n",
    "# switch to turn on/off flushing data to disk\n",
    "_persistent_mode = False\n",
    "\n",
    "\n",
    "class TextAnalyzer(object):\n",
    "    \"\"\"docstring for TextAnalyzer\"\"\"\n",
    "    def __init__(self, lang, stemmer = None, lemmatizer = None):\n",
    "        super(TextAnalyzer, self).__init__()\n",
    "        self.lang = lang\n",
    "        self.stemmer = stemmer\n",
    "        self.lemmatizer = lemmatizer\n",
    "        self.stopwords = set(stopwords.words(lang))\n",
    "        \n",
    "    def tokenize(self, text):\n",
    "        result = []\n",
    "        for token in word_tokenize(text):\n",
    "            token = token.lower().translate(None, string.punctuation)\n",
    "            if not token or token in self.stopwords:\n",
    "                continue\n",
    "            if self.lemmatizer is not None:\n",
    "                token = self.lemmatizer.lemmatize(token)\n",
    "            if self.stemmer is not None:\n",
    "                token = self.stemmer.stem(token)\n",
    "            result.append(token)\n",
    "        return result\n",
    "\n",
    "\n",
    "class DataParser(object):\n",
    "    \"\"\"docstring for DataParser\"\"\"\n",
    "    def __init__(self, pattern):\n",
    "        super(DataParser, self).__init__()\n",
    "        self.pattern = re.compile(pattern, re.S)\n",
    "        \n",
    "    def stream_data(self, path):\n",
    "        with open(path) as fd:\n",
    "            for result in self.pattern.findall(fd.read()):\n",
    "                yield result\n",
    "\n",
    "\n",
    "class Document(object):\n",
    "    \"\"\"docstring for Document\"\"\"\n",
    "    def __init__(self, id_, title, abstract, meta = None):\n",
    "        super(Document, self).__init__()\n",
    "        self.id_ = id_\n",
    "        self.title = title\n",
    "        self.abstract = abstract\n",
    "        self.meta = meta if meta is not None else dict()\n",
    "        \n",
    "    def __str__(self):\n",
    "        return \"id_={}\\ntitle={}\\nabstract={}\\nmeta={}\"\\\n",
    "                .format(str(self.id_), str(self.title), str(self.abstract), str(self.meta))\n",
    "\n",
    "\n",
    "class Query(object):\n",
    "    \"\"\"docstring for Query\"\"\"\n",
    "    def __init__(self, id_, body):\n",
    "        super(Query, self).__init__()\n",
    "        self.id_ = id_\n",
    "        self.body = body\n",
    "        \n",
    "    def __str__(self):\n",
    "        return \"id_={}\\nbody={}\"\\\n",
    "                .format(str(self.id_), str(self.body))\n",
    "\n",
    "\n",
    "class Database(object):\n",
    "    \"\"\"docstring for Database\"\"\"\n",
    "    def __init__(self):\n",
    "        super(Database, self).__init__()\n",
    "        self.db = dict()\n",
    "        \n",
    "    def add(self, item_id, item):\n",
    "        self.db[item_id] = item\n",
    "\n",
    "    def find(self, item_id):\n",
    "        return self.db.get(item_id, None)\n",
    "\n",
    "    def stats_output(self):\n",
    "        print \"db size: {} item(s)\".format(len(self.db))\n",
    "\n",
    "\n",
    "class Posting(object):\n",
    "    \"\"\"docstring for Posting\"\"\"\n",
    "    def __init__(self, id_, tf):\n",
    "        super(Posting, self).__init__()\n",
    "        self.id_ = id_\n",
    "        self.tf = tf\n",
    "        \n",
    "    def __str__(self):\n",
    "        return \"id_={}\\ntf={}\"\\\n",
    "                .format(str(self.id_), str(self.tf))\n",
    "\n",
    "\n",
    "class InvertedIndex(object):\n",
    "    \"\"\"docstring for InvertedIndex\"\"\"\n",
    "    def __init__(self, text_analyzer):\n",
    "        super(InvertedIndex, self).__init__()\n",
    "        self.text_analyzer = text_analyzer\n",
    "        self.index = dict()\n",
    "        \n",
    "    def add(self, item_id, item, index_field):\n",
    "        content = getattr(item, index_field)\n",
    "        tokens = self.text_analyzer.tokenize(content)\n",
    "        tokens.sort()\n",
    "        token = None\n",
    "        tf = 0\n",
    "        for i in xrange(len(tokens)):\n",
    "            if token != tokens[i]:\n",
    "                if token is not None:\n",
    "                    if token not in self.index:\n",
    "                        self.index[token] = []\n",
    "                    self.index[token].append(Posting(item_id, tf))\n",
    "                token = tokens[i]\n",
    "                tf = 0\n",
    "            tf += 1\n",
    "            if i + 1 == len(tokens):\n",
    "                if token not in self.index:\n",
    "                    self.index[token] = []\n",
    "                self.index[token].append(Posting(item_id, tf))\n",
    "        return len(tokens)\n",
    "        \n",
    "    def find(self, token):\n",
    "        return self.index.get(token, [])\n",
    "    \n",
    "    def stats_output(self):\n",
    "        voc_len = len(self.index)\n",
    "        aver_plen, max_plen, max_token = 0, 0, None\n",
    "        for token, postings in self.index.iteritems():\n",
    "            plen = len(postings)\n",
    "            aver_plen += plen\n",
    "            if max_plen < plen:\n",
    "                max_plen = plen\n",
    "                max_token = token\n",
    "        aver_plen /= float(voc_len)\n",
    "        print \"vocabulary length: {}\\npostings length (average): {}\\npostings length (max): {} - \\'{}\\'\"\\\n",
    "                .format(voc_len, aver_plen, max_plen, max_token)\n",
    "            \n",
    "    def __getstate__(self):\n",
    "        state = self.__dict__.copy()\n",
    "        del state[\"text_analyzer\"]\n",
    "        return state\n",
    "    \n",
    "    def __setstate__(self, state):\n",
    "        self.__dict__.update(state)\n",
    "\n",
    "\n",
    "class BM25Ranker(object):\n",
    "    \"\"\"docstring for BM25Ranker\"\"\"\n",
    "    def __init__(self, k1, b, k2 = None):\n",
    "        super(BM25Ranker, self).__init__()\n",
    "        self.k1 = k1\n",
    "        self.b = b\n",
    "        self.k2 = k2\n",
    "        \n",
    "    def score(self, tfd, N, Nt, L, Ld, tfq = None):\n",
    "        tfidf = self.idf(N, Nt) * self.tfd(tfd, L, Ld)\n",
    "        if self.k2 is not None and tfq is not None:\n",
    "            return tfidf * self.tfq(tfq)\n",
    "        else:\n",
    "            return tfidf\n",
    "        \n",
    "    def idf(self, N, Nt):\n",
    "        return math.log(1 + ((N - Nt + 0.5) / (Nt + 0.5)))\n",
    "\n",
    "    def tfd(self, tfd, L, Ld):\n",
    "        return (tfd * (self.k1 + 1)) / (self.k1 * ((1 - self.b) + self.b * Ld / float(L)) + tfd)\n",
    "\n",
    "    def tfq(self, tfq):\n",
    "        return ((self.k2 + 1) * tfq) / float(self.k2 + tfq)\n",
    "\n",
    "\n",
    "class BM25AltIDFRanker(BM25Ranker):\n",
    "    \"\"\"docstring for BM25AltIDFRanker\"\"\"\n",
    "    def __init__(self, k1, b, k2 = None):\n",
    "        super(BM25AltIDFRanker, self).__init__(k1, b, k2)\n",
    "\n",
    "    def idf(self, N, Nt):\n",
    "        return math.log(N / float(Nt))\n",
    "\n",
    "\n",
    "class SearchEngine(object):\n",
    "    \"\"\"docstring for SearchEngine\"\"\"\n",
    "    def __init__(self, text_analyzer, bm25_ranker, doc_index, doc_db):\n",
    "        super(SearchEngine, self).__init__()\n",
    "        self.text_analyzer = text_analyzer\n",
    "        self.bm25_ranker = bm25_ranker\n",
    "        self.doc_index = doc_index\n",
    "        self.doc_db = doc_db\n",
    "        # \n",
    "        self.N = len(self.doc_db.db)\n",
    "        self.L = sum(doc.meta[\"tokenized_len\"] for doc in self.doc_db.db.itervalues()) / float(self.N)\n",
    "        \n",
    "    def run_or_query(self, query, limit, normalize = False, threshold = None):\n",
    "        query_index = InvertedIndex(self.text_analyzer)\n",
    "        query_index.add(query.id_, query, \"body\")\n",
    "        if len(query_index.index) == 0:\n",
    "            return []\n",
    "        if normalize:\n",
    "            idf = dict()\n",
    "        rsv = dict()\n",
    "        for token in self.text_analyzer.tokenize(query.body):\n",
    "            tfq = query_index.find(token)[0].tf\n",
    "            postings = self.doc_index.find(token)\n",
    "            for posting in postings:\n",
    "                tfd = posting.tf\n",
    "                Nt = len(postings)\n",
    "                Ld = self.doc_db.find(posting.id_).meta[\"tokenized_len\"]\n",
    "                if normalize:\n",
    "                    idf[posting.id_] = idf.get(posting.id_, 0) + self.bm25_ranker.idf(self.N, Nt)\n",
    "                rsv[posting.id_] = rsv.get(posting.id_, 0) + self.bm25_ranker.score(tfd, self.N, Nt, self.L, Ld, tfq)\n",
    "        \n",
    "        if normalize:\n",
    "            for doc_id, score in rsv.iteritems():\n",
    "                rsv[doc_id] /= float(idf[doc_id])\n",
    "        \n",
    "        result = sorted(rsv.iteritems(), key = lambda e: e[1], reverse = True)[:limit]\n",
    "        if threshold is not None:\n",
    "            return [(doc_id, score) for doc_id, score in result if score >= threshold]\n",
    "        else:\n",
    "            return result\n",
    "\n",
    "\n",
    "def objdump(obj, path):\n",
    "    with open(path, \"wb\") as fd:\n",
    "        pickle.dump(obj, fd, pickle.HIGHEST_PROTOCOL)\n",
    "\n",
    "\n",
    "def objload(path):\n",
    "    with open(path, \"rb\") as fd:\n",
    "        return pickle.load(fd)\n",
    "\n",
    "\n",
    "def parse_documents():\n",
    "    doc_db = Database()\n",
    "    doc_parser = DataParser(\"\\.I\\s(\\d+)\\n\\.T\\n(.*?)\\.A.*?\\.W\\n(.*?)(?=(\\.I|$))\")\n",
    "    for data in doc_parser.stream_data(_doc_raw_file):\n",
    "        id_, title, abstract = int(data[0]), data[1], data[2]\n",
    "        doc_db.add(id_, Document(id_, title, abstract))\n",
    "    if _persistent_mode:\n",
    "        objdump(doc_db, _doc_db_file)\n",
    "    return doc_db\n",
    "\n",
    "\n",
    "def parse_queries():\n",
    "    query_db = Database()\n",
    "    query_parser = DataParser(\"\\.W\\n(.*?)(?=(\\.I|$))\")\n",
    "    id_ = 0\n",
    "    for data in query_parser.stream_data(_query_raw_file):\n",
    "        id_ += 1\n",
    "        body = data[0]\n",
    "        query_db.add(id_, Query(id_, body))\n",
    "    if _persistent_mode:\n",
    "        objdump(query_db, _query_db_file)\n",
    "    return query_db\n",
    "\n",
    "\n",
    "def index(text_analyzer, index_field, doc_db):\n",
    "    doc_index = InvertedIndex(text_analyzer)\n",
    "    for doc in doc_db.db.itervalues():\n",
    "        doc.meta[\"tokenized_len\"] = doc_index.add(doc.id_, doc, index_field)\n",
    "    if _persistent_mode:\n",
    "        objdump(doc_index, _doc_index_file)\n",
    "        objdump(doc_db, _doc_db_file)\n",
    "    return doc_index\n",
    "\n",
    "\n",
    "def search(text_analyzer, ranker, doc_index, doc_db, query_db, limit, normalize = False, threshold = None):    \n",
    "    engine = SearchEngine(text_analyzer, ranker, doc_index, doc_db)\n",
    "    with open(_answer_file, \"w\") as fd:\n",
    "        for query in query_db.db.itervalues():\n",
    "            docset = engine.run_or_query(query, limit, normalize, threshold)\n",
    "            for doc in docset:\n",
    "                fd.write(str(query.id_) + \" \" + str(doc[0]) + \"\\n\")\n",
    "\n",
    "\n",
    "def eval_output():\n",
    "    q2reld = {} \n",
    "    for line in open(_groundtruth_file):\n",
    "        qid, did = [int(x) for x in line.split()]\n",
    "        if qid not in q2reld:\n",
    "            q2reld[qid] = set()\n",
    "        q2reld[qid].add(did)\n",
    "    # \n",
    "    q2retrd = {}\n",
    "    for line in open(_answer_file):\n",
    "        qid, did = [int(x) for x in line.split()]\n",
    "        if qid not in q2retrd:\n",
    "            q2retrd[qid] = []\n",
    "        q2retrd[qid].append(did)\n",
    "    if not q2retrd:\n",
    "        print(\"mean precision: {}\\nmean recall: {}\\nmean F-measure: {}\")\n",
    "        print(\"MAP@10: {}\")\n",
    "        return\n",
    "    # \n",
    "    N = len(q2retrd.keys())\n",
    "    precision = sum([len(q2reld[q].intersection(q2retrd[q]))*1.0/len(q2retrd[q]) for q in q2retrd.keys()]) / N\n",
    "    recall = sum([len(q2reld[q].intersection(q2retrd[q]))*1.0/len(q2reld[q]) for q in q2retrd.keys()]) / N\n",
    "    print(\"mean precision: {}\\nmean recall: {}\\nmean F-measure: {}\"\\\n",
    "          .format(precision, recall, 2*precision*recall/(precision+recall)))\n",
    "    # MAP@10\n",
    "    MAP = 0.0\n",
    "    for q in q2retrd.keys():\n",
    "        n_results = min(10, len(q2retrd[q]))\n",
    "        avep = np.zeros(n_results)\n",
    "        for i in range(n_results):\n",
    "            avep[i:] += q2retrd[q][i] in q2reld[q]\n",
    "            avep[i] *= (q2retrd[q][i] in q2reld[q]) / (i+1.0)\n",
    "        MAP += sum(avep) / min(n_results, len(q2reld[q]))\n",
    "    print(\"MAP@10: {}\".format(MAP/N))\n",
    "\n",
    "\n",
    "def f1_score():\n",
    "    q2reld = {} \n",
    "    for line in open(_groundtruth_file):\n",
    "        qid, did = [int(x) for x in line.split()]        \n",
    "        if qid not in q2reld:\n",
    "            q2reld[qid] = set()\n",
    "        q2reld[qid].add(did)\n",
    "\n",
    "    # \n",
    "    q2retrd = {}\n",
    "    for line in open(_answer_file):\n",
    "        qid, did = [int(x) for x in line.split()]\n",
    "        if qid not in q2retrd:\n",
    "            q2retrd[qid] = []\n",
    "        q2retrd[qid].append(did)\n",
    "    if not q2retrd:\n",
    "        return 0.0\n",
    "    # \n",
    "    N = len(q2retrd.keys())\n",
    "    precision = sum([len(q2reld[q].intersection(q2retrd[q]))*1.0/len(q2retrd[q]) for q in q2retrd.keys()]) / N\n",
    "    recall = sum([len(q2reld[q].intersection(q2retrd[q]))*1.0/len(q2reld[q]) for q in q2retrd.keys()]) / N\n",
    "    return 2*precision*recall/(precision+recall)\n",
    "\n",
    "def precision():\n",
    "    q2reld = {} \n",
    "    for line in open(_groundtruth_file):\n",
    "        qid, did = [int(x) for x in line.split()]\n",
    "        if qid not in q2reld:\n",
    "            q2reld[qid] = set()\n",
    "        q2reld[qid].add(did)\n",
    "    # \n",
    "    q2retrd = {}\n",
    "    for line in open(_answer_file):\n",
    "        qid, did = [int(x) for x in line.split()]\n",
    "        if qid not in q2retrd:\n",
    "            q2retrd[qid] = []\n",
    "        q2retrd[qid].append(did)\n",
    "    if not q2retrd:\n",
    "        return 0.0\n",
    "    # \n",
    "    N = len(q2retrd.keys())\n",
    "    precision = sum([len(q2reld[q].intersection(q2retrd[q]))*1.0/len(q2retrd[q]) for q in q2retrd.keys()]) / N\n",
    "    return precision\n"
   ]
  },
  {
   "cell_type": "markdown",
   "metadata": {},
   "source": [
    "# Задание 4, 5"
   ]
  },
  {
   "cell_type": "markdown",
   "metadata": {},
   "source": [
    "Распарсим данные о статьях и запросы:"
   ]
  },
  {
   "cell_type": "code",
   "execution_count": 2,
   "metadata": {
    "collapsed": false
   },
   "outputs": [
    {
     "name": "stdout",
     "output_type": "stream",
     "text": [
      "------doc_db------\n",
      "db size: 1400 item(s)\n",
      "\n",
      "------query_db------\n",
      "db size: 225 item(s)\n"
     ]
    }
   ],
   "source": [
    "# _persistent_mode = True\n",
    "\n",
    "print \"------doc_db------\"\n",
    "_doc_db = parse_documents()\n",
    "_doc_db.stats_output()\n",
    "\n",
    "print \"\\n------query_db------\"\n",
    "_query_db = parse_queries()\n",
    "_query_db.stats_output()\n"
   ]
  },
  {
   "cell_type": "markdown",
   "metadata": {},
   "source": [
    "Определим при каком способе нормализации и выборе индексируемого поля мы получим наилучшее качество поиска:"
   ]
  },
  {
   "cell_type": "code",
   "execution_count": 3,
   "metadata": {
    "collapsed": false,
    "scrolled": true
   },
   "outputs": [
    {
     "name": "stdout",
     "output_type": "stream",
     "text": [
      "\n",
      "------index_field = 'title'------\n",
      "\n",
      "text_analyzer idx = 0:\n",
      "---INDEX STATS---\n",
      "vocabulary length: 1914\n",
      "postings length (average): 5.65987460815\n",
      "postings length (max): 319 - 'flow'\n",
      "---SEARCH STATS---\n",
      "mean precision: 0.224888888889\n",
      "mean recall: 0.330929412138\n",
      "mean F-measure: 0.267793801171\n",
      "MAP@10: 0.255775316341\n",
      "\n",
      "text_analyzer idx = 1:\n",
      "---INDEX STATS---\n",
      "vocabulary length: 1479\n",
      "postings length (average): 7.30696416498\n",
      "postings length (max): 359 - 'flow'\n",
      "---SEARCH STATS---\n",
      "mean precision: 0.246666666667\n",
      "mean recall: 0.361286927292\n",
      "mean F-measure: 0.293171857033\n",
      "MAP@10: 0.28750920467\n",
      "\n",
      "text_analyzer idx = 2:\n",
      "---INDEX STATS---\n",
      "vocabulary length: 1718\n",
      "postings length (average): 6.29511059371\n",
      "postings length (max): 359 - 'flow'\n",
      "---SEARCH STATS---\n",
      "mean precision: 0.238666666667\n",
      "mean recall: 0.35039711472\n",
      "mean F-measure: 0.283935675634\n",
      "MAP@10: 0.276800512304\n",
      "\n",
      "text_analyzer idx = 3:\n",
      "---INDEX STATS---\n",
      "vocabulary length: 1477\n",
      "postings length (average): 7.31685849695\n",
      "postings length (max): 359 - 'flow'\n",
      "---SEARCH STATS---\n",
      "mean precision: 0.246222222222\n",
      "mean recall: 0.360539131877\n",
      "mean F-measure: 0.292611734907\n",
      "MAP@10: 0.288182203746\n",
      "\n",
      "------index_field = 'abstract'------\n",
      "\n",
      "text_analyzer idx = 0:\n",
      "---INDEX STATS---\n",
      "vocabulary length: 8974\n",
      "postings length (average): 10.2041453087\n",
      "postings length (max): 686 - 'flow'\n",
      "---SEARCH STATS---\n",
      "mean precision: 0.286666666667\n",
      "mean recall: 0.412932806961\n",
      "mean F-measure: 0.33840526127\n",
      "MAP@10: 0.33706111811\n",
      "\n",
      "text_analyzer idx = 1:\n",
      "---INDEX STATS---\n",
      "vocabulary length: 6240\n",
      "postings length (average): 13.7325320513\n",
      "postings length (max): 714 - 'flow'\n",
      "---SEARCH STATS---\n",
      "mean precision: 0.294666666667\n",
      "mean recall: 0.427313910957\n",
      "mean F-measure: 0.348804856154\n",
      "MAP@10: 0.363613863694\n",
      "\n",
      "text_analyzer idx = 2:\n",
      "---INDEX STATS---\n",
      "vocabulary length: 8149\n",
      "postings length (average): 10.841452939\n",
      "postings length (max): 712 - 'flow'\n",
      "---SEARCH STATS---\n",
      "mean precision: 0.298222222222\n",
      "mean recall: 0.429201954553\n",
      "mean F-measure: 0.351920006938\n",
      "MAP@10: 0.357028554632\n",
      "\n",
      "text_analyzer idx = 3:\n",
      "---INDEX STATS---\n",
      "vocabulary length: 6232\n",
      "postings length (average): 13.743902439\n",
      "postings length (max): 714 - 'flow'\n",
      "---SEARCH STATS---\n",
      "mean precision: 0.296\n",
      "mean recall: 0.430382694025\n",
      "mean F-measure: 0.350760772467\n",
      "MAP@10: 0.363368566809\n"
     ]
    }
   ],
   "source": [
    "def task45(index_field):\n",
    "    print \"\\n------index_field = \\'{}\\'------\".format(index_field)\n",
    "    text_analyzers = [TextAnalyzer(_lang), \\\n",
    "                  TextAnalyzer(_lang, stemmer = SnowballStemmer(_lang)), \\\n",
    "                  TextAnalyzer(_lang, lemmatizer = WordNetLemmatizer()), \\\n",
    "                  TextAnalyzer(_lang, stemmer = SnowballStemmer(_lang), lemmatizer = WordNetLemmatizer())]\n",
    "    ranker = BM25Ranker(1.2, 0.75)\n",
    "    for i in xrange(len(text_analyzers)):\n",
    "        print \"\\ntext_analyzer idx = {}:\".format(i)\n",
    "        doc_index = index(text_analyzers[i], index_field, _doc_db)\n",
    "        print \"---INDEX STATS---\"\n",
    "        doc_index.stats_output()\n",
    "        search(text_analyzers[i], ranker, doc_index, _doc_db, _query_db, 10)\n",
    "        print \"---SEARCH STATS---\"\n",
    "        eval_output()\n",
    "\n",
    "task45(\"title\")\n",
    "task45(\"abstract\")\n"
   ]
  },
  {
   "cell_type": "markdown",
   "metadata": {},
   "source": [
    "В выводе выше, помимо усредненных оценок качества по выдачам, представлены также статистики по индексам, построенным для разных нормализаторов. \n",
    "\n",
    "Из полученных результатов следует, что качество поиска улучшается при индексации по более длинному полю - *abstract*. Это объясняется ростом вероятности встретить терм из запроса в документе с увеличением размера последнего. Лучшие результаты удалось получить на трех нормализаторах: 'только стемминг', 'только лемматизация', 'стемминг и лемматизация'. При этом все три результата различаются несущественно. Далее будем использовать нормализатор, использующий исключительно лемматизатор."
   ]
  },
  {
   "cell_type": "code",
   "execution_count": 4,
   "metadata": {
    "collapsed": true
   },
   "outputs": [],
   "source": [
    "_text_analyzer = TextAnalyzer(_lang, lemmatizer = WordNetLemmatizer())\n",
    "_index_field = \"abstract\""
   ]
  },
  {
   "cell_type": "markdown",
   "metadata": {},
   "source": [
    "# Задание 6"
   ]
  },
  {
   "cell_type": "markdown",
   "metadata": {},
   "source": [
    "Попробуем оптимизировать параметры k1 и b функции BM25. Для этого запустим поиск в каждом узле сетки k1xb=(1.2,2)x(0,1) и сравним качество ответов, используя усредненную F-меру. Проведем два испытания: в первом будем индексировать по полю *title*, а во втором - по *abstract*:"
   ]
  },
  {
   "cell_type": "code",
   "execution_count": 5,
   "metadata": {
    "collapsed": false,
    "scrolled": true
   },
   "outputs": [
    {
     "name": "stdout",
     "output_type": "stream",
     "text": [
      "\n",
      "------index_field = 'title'------\n",
      "k1: 1.3\n",
      "b: 0.8\n",
      "F-measure: 0.285328152135\n",
      "\n",
      "------index_field = 'abstract'------\n",
      "k1: 1.9\n",
      "b: 0.5\n",
      "F-measure: 0.352592558251\n"
     ]
    }
   ],
   "source": [
    "def task6(index_field):\n",
    "    print \"\\n------index_field = \\'{}\\'------\".format(index_field)\n",
    "    doc_index = index(_text_analyzer, index_field, _doc_db)\n",
    "    \n",
    "    _f1, _k1, _b = None, None, None \n",
    "    for k1 in np.arange(1.2, 2, 0.1):\n",
    "        for b in np.arange(0, 1, 0.1):\n",
    "            ranker = BM25Ranker(k1, b)\n",
    "            search(_text_analyzer, ranker, doc_index, _doc_db, _query_db, 10)\n",
    "            f1 = f1_score()\n",
    "            if _f1 is None or _f1 < f1:\n",
    "                _f1 = f1\n",
    "                _k1 = k1\n",
    "                _b = b\n",
    "                \n",
    "    print(\"k1: {}\\nb: {}\\nF-measure: {}\".format(_k1, _b, _f1))\n",
    "\n",
    "task6(\"title\")\n",
    "task6(\"abstract\")\n"
   ]
  },
  {
   "cell_type": "markdown",
   "metadata": {},
   "source": [
    "k1 характеризует насколько большой будет разница в релевантности между документом с минимальной и документом с максимальной частотой встречаемости терма. Понятно, что в тексте большей длины будет большая вариативность частот встречаемости термов. Поэтому для 'abstract' лучшее качество ответа мы получили при более высоком значении k1, чем для 'title'.\n",
    "\n",
    "b характеризует то, насколько длина документа влияет на степень его релевантности. Очевидно, что для поля 'abstract' учет фактора длины не играет столь существенной роли, как для поля 'title'. "
   ]
  },
  {
   "cell_type": "code",
   "execution_count": 6,
   "metadata": {
    "collapsed": true
   },
   "outputs": [],
   "source": [
    "_k1 = 1.9\n",
    "_b = 0.5"
   ]
  },
  {
   "cell_type": "markdown",
   "metadata": {
    "collapsed": false
   },
   "source": [
    "# Задание 7 "
   ]
  },
  {
   "cell_type": "markdown",
   "metadata": {},
   "source": [
    "Заменим в функции BM25 IDF-составляющую на $log(\\frac{N}{Nt})$. Оценим качество поиска при использовании модифицированной BM25 формулы:"
   ]
  },
  {
   "cell_type": "code",
   "execution_count": 7,
   "metadata": {
    "collapsed": false
   },
   "outputs": [
    {
     "name": "stdout",
     "output_type": "stream",
     "text": [
      "------BM25Ranker------\n",
      "mean precision: 0.298666666667\n",
      "mean recall: 0.43028238359\n",
      "mean F-measure: 0.352592558251\n",
      "MAP@10: 0.360366316033\n",
      "\n",
      "------BM25AltIDFRanker------\n",
      "mean precision: 0.299111111111\n",
      "mean recall: 0.430837939145\n",
      "mean F-measure: 0.353088793365\n",
      "MAP@10: 0.360716404216\n"
     ]
    }
   ],
   "source": [
    "def task7(ranker):\n",
    "    doc_index = index(_text_analyzer, _index_field, _doc_db)\n",
    "    search(_text_analyzer, ranker, doc_index, _doc_db, _query_db, 10)\n",
    "    eval_output()\n",
    "    \n",
    "print \"------BM25Ranker------\"\n",
    "task7(BM25Ranker(_k1, _b))\n",
    "print \"\\n------BM25AltIDFRanker------\"\n",
    "task7(BM25AltIDFRanker(_k1, _b))\n"
   ]
  },
  {
   "cell_type": "markdown",
   "metadata": {},
   "source": [
    "Из результатов выше следует, что при замене формулы качество поиска существенно не изменилось."
   ]
  },
  {
   "cell_type": "markdown",
   "metadata": {},
   "source": [
    "# Задание 8 "
   ]
  },
  {
   "cell_type": "markdown",
   "metadata": {},
   "source": [
    "Попробуем провести нормализацию RSV величин для документов в процессе поиска:"
   ]
  },
  {
   "cell_type": "code",
   "execution_count": 8,
   "metadata": {
    "collapsed": false
   },
   "outputs": [
    {
     "name": "stdout",
     "output_type": "stream",
     "text": [
      "------Normalize=False------\n",
      "mean precision: 0.298666666667\n",
      "mean recall: 0.43028238359\n",
      "mean F-measure: 0.352592558251\n",
      "MAP@10: 0.360366316033\n",
      "\n",
      "------Normalize=True------\n",
      "mean precision: 0.0231111111111\n",
      "mean recall: 0.0285820823102\n",
      "mean F-measure: 0.0255570854241\n",
      "MAP@10: 0.0139635900451\n"
     ]
    }
   ],
   "source": [
    "def task8(normalize):\n",
    "    doc_index = index(_text_analyzer, _index_field, _doc_db)\n",
    "    ranker = BM25Ranker(_k1, _b)\n",
    "    search(_text_analyzer, ranker, doc_index, _doc_db, _query_db, 10, normalize)\n",
    "    eval_output()\n",
    "    \n",
    "print \"------Normalize=False------\"\n",
    "task8(False)\n",
    "print \"\\n------Normalize=True------\"\n",
    "task8(True)\n"
   ]
  },
  {
   "cell_type": "markdown",
   "metadata": {},
   "source": [
    "Из полученных результатов следует, что качество поиска существенно снизилось после нормализации. "
   ]
  },
  {
   "cell_type": "markdown",
   "metadata": {},
   "source": [
    "# Задание 9"
   ]
  },
  {
   "cell_type": "markdown",
   "metadata": {},
   "source": [
    "Добавим в функцию BM25 множитель, отвечающий за частоту встречаемости термов в запросе: "
   ]
  },
  {
   "cell_type": "code",
   "execution_count": 9,
   "metadata": {
    "collapsed": false
   },
   "outputs": [
    {
     "name": "stdout",
     "output_type": "stream",
     "text": [
      "\n",
      "------index_field = 'abstract'------\n",
      "k2: 0\n",
      "F-measure: 0.352592558251\n"
     ]
    }
   ],
   "source": [
    "def task9():\n",
    "    print \"\\n------index_field = \\'{}\\'------\".format(_index_field)\n",
    "    doc_index = index(_text_analyzer, _index_field, _doc_db)\n",
    "    _k2, _f1 = None, None\n",
    "    for k2 in [0, 25, 50, 75, 100, 250, 500, 750, 1000]:\n",
    "        ranker = BM25Ranker(_k1, _b, k2)\n",
    "        search(_text_analyzer, ranker, doc_index, _doc_db, _query_db, 10)\n",
    "        f1 = f1_score()\n",
    "        if _f1 is None or _f1 < f1:\n",
    "            _f1 = f1\n",
    "            _k2 = k2\n",
    "    print(\"k2: {}\\nF-measure: {}\".format(_k2, _f1))\n",
    "    \n",
    "task9()\n"
   ]
  },
  {
   "cell_type": "markdown",
   "metadata": {},
   "source": [
    "Для ранее найденных лучших значений k1 и b мы получили для k2 лучшую оценку равную 0. Это говорит о том, что влияние частоты встречаемости термов в запросе на качество выдачи минимально. Скорее всего, это связано с тем, что в предложенных запросах термы повторялись не так часто."
   ]
  },
  {
   "cell_type": "code",
   "execution_count": 10,
   "metadata": {
    "collapsed": true
   },
   "outputs": [],
   "source": [
    "_k2 = 0"
   ]
  },
  {
   "cell_type": "markdown",
   "metadata": {},
   "source": [
    "# Задание 10 "
   ]
  },
  {
   "cell_type": "markdown",
   "metadata": {},
   "source": [
    "Определим зависимость точности выдачи от заданной величины порога для RSV документа."
   ]
  },
  {
   "cell_type": "code",
   "execution_count": 11,
   "metadata": {
    "collapsed": false
   },
   "outputs": [
    {
     "data": {
      "image/png": "[encoded data removed]",
      "text/plain": [
       "<matplotlib.figure.Figure at 0x7f5a371a31d0>"
      ]
     },
     "metadata": {},
     "output_type": "display_data"
    }
   ],
   "source": [
    "import numpy as np\n",
    "import matplotlib.pyplot as plt\n",
    "\n",
    "%matplotlib inline\n",
    "\n",
    "def task10():\n",
    "    doc_index = index(_text_analyzer, _index_field, _doc_db)\n",
    "    ranker = BM25Ranker(_k1, _b, _k2)\n",
    "    xpts, ypts = [], []\n",
    "    for threshold in xrange(10, 70):\n",
    "        search(_text_analyzer, ranker, doc_index, _doc_db, _query_db, 10, False, threshold)\n",
    "        xpts.append(threshold)\n",
    "        ypts.append(precision())\n",
    "\n",
    "    f, ax = plt.subplots()\n",
    "    ax.plot(xpts, ypts)\n",
    "    ax.set_title('Precision (RSV threshold)')\n",
    "    plt.show()\n",
    "    \n",
    "task10()\n"
   ]
  },
  {
   "cell_type": "markdown",
   "metadata": {},
   "source": [
    "Из графика заметно, что полученная зависимость имеет логарифмический характер. Нули в конце означают, что в ответ на запрос была получена пустая выдача, т.е. не нашлось документа с RSV, превосходящим пороговое значение."
   ]
  }
 ],
 "metadata": {
  "anaconda-cloud": {},
  "kernelspec": {
   "display_name": "Python [conda root]",
   "language": "python",
   "name": "conda-root-py"
  },
  "language_info": {
   "codemirror_mode": {
    "name": "ipython",
    "version": 2
   },
   "file_extension": ".py",
   "mimetype": "text/x-python",
   "name": "python",
   "nbconvert_exporter": "python",
   "pygments_lexer": "ipython2",
   "version": "2.7.12"
  }
 },
 "nbformat": 4,
 "nbformat_minor": 1
}
